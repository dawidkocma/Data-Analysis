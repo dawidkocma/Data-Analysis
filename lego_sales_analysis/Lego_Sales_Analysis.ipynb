{
 "cells": [
  {
   "cell_type": "code",
   "id": "initial_id",
   "metadata": {
    "collapsed": true,
    "ExecuteTime": {
     "end_time": "2025-04-21T20:11:20.901368Z",
     "start_time": "2025-04-21T20:11:16.825851Z"
    }
   },
   "source": [
    "from itertools import count\n",
    "\n",
    "import pandas as pd\n",
    "import matplotlib.pyplot as plt"
   ],
   "outputs": [],
   "execution_count": 2
  },
  {
   "metadata": {
    "ExecuteTime": {
     "end_time": "2025-04-21T20:11:20.976207Z",
     "start_time": "2025-04-21T20:11:20.907595Z"
    }
   },
   "cell_type": "code",
   "source": [
    "colors = pd.read_csv('data/colors.csv')\n",
    "sets = pd.read_csv('data/sets.csv')\n",
    "themes = pd.read_csv('data/themes.csv')"
   ],
   "id": "b53f46f7199d6971",
   "outputs": [],
   "execution_count": 3
  },
  {
   "metadata": {
    "ExecuteTime": {
     "end_time": "2025-04-21T20:11:21.013457Z",
     "start_time": "2025-04-21T20:11:21.000969Z"
    }
   },
   "cell_type": "code",
   "source": "colors.head()",
   "id": "3eec76e31ec6566d",
   "outputs": [
    {
     "data": {
      "text/plain": [
       "   id            name     rgb  is_trans  num_parts  num_sets      y1      y2\n",
       "0  -1       [Unknown]  0033B2     False          7         7  2003.0  2012.0\n",
       "1   0           Black  05131D     False     732655    202858  1957.0  2025.0\n",
       "2   1            Blue  0055BF     False     191272     46053  1949.0  2025.0\n",
       "3   2           Green  237841     False      78595     23543  1949.0  2025.0\n",
       "4   3  Dark Turquoise  008F9B     False      19476      5081  1998.0  2025.0"
      ],
      "text/html": [
       "<div>\n",
       "<style scoped>\n",
       "    .dataframe tbody tr th:only-of-type {\n",
       "        vertical-align: middle;\n",
       "    }\n",
       "\n",
       "    .dataframe tbody tr th {\n",
       "        vertical-align: top;\n",
       "    }\n",
       "\n",
       "    .dataframe thead th {\n",
       "        text-align: right;\n",
       "    }\n",
       "</style>\n",
       "<table border=\"1\" class=\"dataframe\">\n",
       "  <thead>\n",
       "    <tr style=\"text-align: right;\">\n",
       "      <th></th>\n",
       "      <th>id</th>\n",
       "      <th>name</th>\n",
       "      <th>rgb</th>\n",
       "      <th>is_trans</th>\n",
       "      <th>num_parts</th>\n",
       "      <th>num_sets</th>\n",
       "      <th>y1</th>\n",
       "      <th>y2</th>\n",
       "    </tr>\n",
       "  </thead>\n",
       "  <tbody>\n",
       "    <tr>\n",
       "      <th>0</th>\n",
       "      <td>-1</td>\n",
       "      <td>[Unknown]</td>\n",
       "      <td>0033B2</td>\n",
       "      <td>False</td>\n",
       "      <td>7</td>\n",
       "      <td>7</td>\n",
       "      <td>2003.0</td>\n",
       "      <td>2012.0</td>\n",
       "    </tr>\n",
       "    <tr>\n",
       "      <th>1</th>\n",
       "      <td>0</td>\n",
       "      <td>Black</td>\n",
       "      <td>05131D</td>\n",
       "      <td>False</td>\n",
       "      <td>732655</td>\n",
       "      <td>202858</td>\n",
       "      <td>1957.0</td>\n",
       "      <td>2025.0</td>\n",
       "    </tr>\n",
       "    <tr>\n",
       "      <th>2</th>\n",
       "      <td>1</td>\n",
       "      <td>Blue</td>\n",
       "      <td>0055BF</td>\n",
       "      <td>False</td>\n",
       "      <td>191272</td>\n",
       "      <td>46053</td>\n",
       "      <td>1949.0</td>\n",
       "      <td>2025.0</td>\n",
       "    </tr>\n",
       "    <tr>\n",
       "      <th>3</th>\n",
       "      <td>2</td>\n",
       "      <td>Green</td>\n",
       "      <td>237841</td>\n",
       "      <td>False</td>\n",
       "      <td>78595</td>\n",
       "      <td>23543</td>\n",
       "      <td>1949.0</td>\n",
       "      <td>2025.0</td>\n",
       "    </tr>\n",
       "    <tr>\n",
       "      <th>4</th>\n",
       "      <td>3</td>\n",
       "      <td>Dark Turquoise</td>\n",
       "      <td>008F9B</td>\n",
       "      <td>False</td>\n",
       "      <td>19476</td>\n",
       "      <td>5081</td>\n",
       "      <td>1998.0</td>\n",
       "      <td>2025.0</td>\n",
       "    </tr>\n",
       "  </tbody>\n",
       "</table>\n",
       "</div>"
      ]
     },
     "execution_count": 4,
     "metadata": {},
     "output_type": "execute_result"
    }
   ],
   "execution_count": 4
  },
  {
   "metadata": {
    "ExecuteTime": {
     "end_time": "2025-04-21T20:11:21.040538Z",
     "start_time": "2025-04-21T20:11:21.036155Z"
    }
   },
   "cell_type": "code",
   "source": "colors['name'].nunique()",
   "id": "4ea8a2be220107ae",
   "outputs": [
    {
     "data": {
      "text/plain": [
       "267"
      ]
     },
     "execution_count": 5,
     "metadata": {},
     "output_type": "execute_result"
    }
   ],
   "execution_count": 5
  },
  {
   "metadata": {
    "ExecuteTime": {
     "end_time": "2025-04-21T20:11:21.146413Z",
     "start_time": "2025-04-21T20:11:21.141407Z"
    }
   },
   "cell_type": "code",
   "source": "colors[colors.is_trans == True].shape[0]",
   "id": "549a0f137e7da6b8",
   "outputs": [
    {
     "data": {
      "text/plain": [
       "45"
      ]
     },
     "execution_count": 6,
     "metadata": {},
     "output_type": "execute_result"
    }
   ],
   "execution_count": 6
  },
  {
   "metadata": {
    "ExecuteTime": {
     "end_time": "2025-04-21T20:11:21.266868Z",
     "start_time": "2025-04-21T20:11:21.258434Z"
    }
   },
   "cell_type": "code",
   "source": "colors.groupby(\"is_trans\").count()",
   "id": "11da2299c71dcdf4",
   "outputs": [
    {
     "data": {
      "text/plain": [
       "           id  name  rgb  num_parts  num_sets   y1   y2\n",
       "is_trans                                               \n",
       "False     222   222  222        222       222  212  212\n",
       "True       45    45   45         45        45   43   43"
      ],
      "text/html": [
       "<div>\n",
       "<style scoped>\n",
       "    .dataframe tbody tr th:only-of-type {\n",
       "        vertical-align: middle;\n",
       "    }\n",
       "\n",
       "    .dataframe tbody tr th {\n",
       "        vertical-align: top;\n",
       "    }\n",
       "\n",
       "    .dataframe thead th {\n",
       "        text-align: right;\n",
       "    }\n",
       "</style>\n",
       "<table border=\"1\" class=\"dataframe\">\n",
       "  <thead>\n",
       "    <tr style=\"text-align: right;\">\n",
       "      <th></th>\n",
       "      <th>id</th>\n",
       "      <th>name</th>\n",
       "      <th>rgb</th>\n",
       "      <th>num_parts</th>\n",
       "      <th>num_sets</th>\n",
       "      <th>y1</th>\n",
       "      <th>y2</th>\n",
       "    </tr>\n",
       "    <tr>\n",
       "      <th>is_trans</th>\n",
       "      <th></th>\n",
       "      <th></th>\n",
       "      <th></th>\n",
       "      <th></th>\n",
       "      <th></th>\n",
       "      <th></th>\n",
       "      <th></th>\n",
       "    </tr>\n",
       "  </thead>\n",
       "  <tbody>\n",
       "    <tr>\n",
       "      <th>False</th>\n",
       "      <td>222</td>\n",
       "      <td>222</td>\n",
       "      <td>222</td>\n",
       "      <td>222</td>\n",
       "      <td>222</td>\n",
       "      <td>212</td>\n",
       "      <td>212</td>\n",
       "    </tr>\n",
       "    <tr>\n",
       "      <th>True</th>\n",
       "      <td>45</td>\n",
       "      <td>45</td>\n",
       "      <td>45</td>\n",
       "      <td>45</td>\n",
       "      <td>45</td>\n",
       "      <td>43</td>\n",
       "      <td>43</td>\n",
       "    </tr>\n",
       "  </tbody>\n",
       "</table>\n",
       "</div>"
      ]
     },
     "execution_count": 7,
     "metadata": {},
     "output_type": "execute_result"
    }
   ],
   "execution_count": 7
  },
  {
   "metadata": {
    "ExecuteTime": {
     "end_time": "2025-04-21T20:11:21.484068Z",
     "start_time": "2025-04-21T20:11:21.473471Z"
    }
   },
   "cell_type": "code",
   "source": "sets.head()",
   "id": "7f302b430bf7dac6",
   "outputs": [
    {
     "data": {
      "text/plain": [
       "        set_num                         name  year  theme_id  num_parts  \\\n",
       "0  0003977811-1  Ninjago: Book of Adventures  2022       761          1   \n",
       "1         001-1                        Gears  1965       756         43   \n",
       "2        0011-2            Town Mini-Figures  1979        67         12   \n",
       "3        0011-3   Castle 2 for 1 Bonus Offer  1987       199          0   \n",
       "4        0012-1           Space Mini-Figures  1979       143         12   \n",
       "\n",
       "                                             img_url  \n",
       "0  https://cdn.rebrickable.com/media/sets/0003977...  \n",
       "1   https://cdn.rebrickable.com/media/sets/001-1.jpg  \n",
       "2  https://cdn.rebrickable.com/media/sets/0011-2.jpg  \n",
       "3  https://cdn.rebrickable.com/media/sets/0011-3.jpg  \n",
       "4  https://cdn.rebrickable.com/media/sets/0012-1.jpg  "
      ],
      "text/html": [
       "<div>\n",
       "<style scoped>\n",
       "    .dataframe tbody tr th:only-of-type {\n",
       "        vertical-align: middle;\n",
       "    }\n",
       "\n",
       "    .dataframe tbody tr th {\n",
       "        vertical-align: top;\n",
       "    }\n",
       "\n",
       "    .dataframe thead th {\n",
       "        text-align: right;\n",
       "    }\n",
       "</style>\n",
       "<table border=\"1\" class=\"dataframe\">\n",
       "  <thead>\n",
       "    <tr style=\"text-align: right;\">\n",
       "      <th></th>\n",
       "      <th>set_num</th>\n",
       "      <th>name</th>\n",
       "      <th>year</th>\n",
       "      <th>theme_id</th>\n",
       "      <th>num_parts</th>\n",
       "      <th>img_url</th>\n",
       "    </tr>\n",
       "  </thead>\n",
       "  <tbody>\n",
       "    <tr>\n",
       "      <th>0</th>\n",
       "      <td>0003977811-1</td>\n",
       "      <td>Ninjago: Book of Adventures</td>\n",
       "      <td>2022</td>\n",
       "      <td>761</td>\n",
       "      <td>1</td>\n",
       "      <td>https://cdn.rebrickable.com/media/sets/0003977...</td>\n",
       "    </tr>\n",
       "    <tr>\n",
       "      <th>1</th>\n",
       "      <td>001-1</td>\n",
       "      <td>Gears</td>\n",
       "      <td>1965</td>\n",
       "      <td>756</td>\n",
       "      <td>43</td>\n",
       "      <td>https://cdn.rebrickable.com/media/sets/001-1.jpg</td>\n",
       "    </tr>\n",
       "    <tr>\n",
       "      <th>2</th>\n",
       "      <td>0011-2</td>\n",
       "      <td>Town Mini-Figures</td>\n",
       "      <td>1979</td>\n",
       "      <td>67</td>\n",
       "      <td>12</td>\n",
       "      <td>https://cdn.rebrickable.com/media/sets/0011-2.jpg</td>\n",
       "    </tr>\n",
       "    <tr>\n",
       "      <th>3</th>\n",
       "      <td>0011-3</td>\n",
       "      <td>Castle 2 for 1 Bonus Offer</td>\n",
       "      <td>1987</td>\n",
       "      <td>199</td>\n",
       "      <td>0</td>\n",
       "      <td>https://cdn.rebrickable.com/media/sets/0011-3.jpg</td>\n",
       "    </tr>\n",
       "    <tr>\n",
       "      <th>4</th>\n",
       "      <td>0012-1</td>\n",
       "      <td>Space Mini-Figures</td>\n",
       "      <td>1979</td>\n",
       "      <td>143</td>\n",
       "      <td>12</td>\n",
       "      <td>https://cdn.rebrickable.com/media/sets/0012-1.jpg</td>\n",
       "    </tr>\n",
       "  </tbody>\n",
       "</table>\n",
       "</div>"
      ]
     },
     "execution_count": 8,
     "metadata": {},
     "output_type": "execute_result"
    }
   ],
   "execution_count": 8
  },
  {
   "metadata": {
    "ExecuteTime": {
     "end_time": "2025-04-21T20:11:21.565781Z",
     "start_time": "2025-04-21T20:11:21.558393Z"
    }
   },
   "cell_type": "code",
   "source": "sets.tail()",
   "id": "113cce729f1530d4",
   "outputs": [
    {
     "data": {
      "text/plain": [
       "           set_num                             name  year  theme_id  \\\n",
       "24770  YODACHRON-1  Yoda Chronicles Promotional Set  2013       158   \n",
       "24771       YOTO-1  1, 2, 3 Play with Me YOTO Cards  2021       501   \n",
       "24772       YOTO-2                A is for Alphabet  2021       501   \n",
       "24773   YTERRIER-1                Yorkshire Terrier  2018       598   \n",
       "24774     ZX8000-1             ZX 8000 LEGO Sneaker  2020       501   \n",
       "\n",
       "       num_parts                                            img_url  \n",
       "24770        413  https://cdn.rebrickable.com/media/sets/yodachr...  \n",
       "24771          0  https://cdn.rebrickable.com/media/sets/yoto-1.jpg  \n",
       "24772          0  https://cdn.rebrickable.com/media/sets/yoto-2.jpg  \n",
       "24773          0  https://cdn.rebrickable.com/media/sets/yterrie...  \n",
       "24774          0  https://cdn.rebrickable.com/media/sets/zx8000-...  "
      ],
      "text/html": [
       "<div>\n",
       "<style scoped>\n",
       "    .dataframe tbody tr th:only-of-type {\n",
       "        vertical-align: middle;\n",
       "    }\n",
       "\n",
       "    .dataframe tbody tr th {\n",
       "        vertical-align: top;\n",
       "    }\n",
       "\n",
       "    .dataframe thead th {\n",
       "        text-align: right;\n",
       "    }\n",
       "</style>\n",
       "<table border=\"1\" class=\"dataframe\">\n",
       "  <thead>\n",
       "    <tr style=\"text-align: right;\">\n",
       "      <th></th>\n",
       "      <th>set_num</th>\n",
       "      <th>name</th>\n",
       "      <th>year</th>\n",
       "      <th>theme_id</th>\n",
       "      <th>num_parts</th>\n",
       "      <th>img_url</th>\n",
       "    </tr>\n",
       "  </thead>\n",
       "  <tbody>\n",
       "    <tr>\n",
       "      <th>24770</th>\n",
       "      <td>YODACHRON-1</td>\n",
       "      <td>Yoda Chronicles Promotional Set</td>\n",
       "      <td>2013</td>\n",
       "      <td>158</td>\n",
       "      <td>413</td>\n",
       "      <td>https://cdn.rebrickable.com/media/sets/yodachr...</td>\n",
       "    </tr>\n",
       "    <tr>\n",
       "      <th>24771</th>\n",
       "      <td>YOTO-1</td>\n",
       "      <td>1, 2, 3 Play with Me YOTO Cards</td>\n",
       "      <td>2021</td>\n",
       "      <td>501</td>\n",
       "      <td>0</td>\n",
       "      <td>https://cdn.rebrickable.com/media/sets/yoto-1.jpg</td>\n",
       "    </tr>\n",
       "    <tr>\n",
       "      <th>24772</th>\n",
       "      <td>YOTO-2</td>\n",
       "      <td>A is for Alphabet</td>\n",
       "      <td>2021</td>\n",
       "      <td>501</td>\n",
       "      <td>0</td>\n",
       "      <td>https://cdn.rebrickable.com/media/sets/yoto-2.jpg</td>\n",
       "    </tr>\n",
       "    <tr>\n",
       "      <th>24773</th>\n",
       "      <td>YTERRIER-1</td>\n",
       "      <td>Yorkshire Terrier</td>\n",
       "      <td>2018</td>\n",
       "      <td>598</td>\n",
       "      <td>0</td>\n",
       "      <td>https://cdn.rebrickable.com/media/sets/yterrie...</td>\n",
       "    </tr>\n",
       "    <tr>\n",
       "      <th>24774</th>\n",
       "      <td>ZX8000-1</td>\n",
       "      <td>ZX 8000 LEGO Sneaker</td>\n",
       "      <td>2020</td>\n",
       "      <td>501</td>\n",
       "      <td>0</td>\n",
       "      <td>https://cdn.rebrickable.com/media/sets/zx8000-...</td>\n",
       "    </tr>\n",
       "  </tbody>\n",
       "</table>\n",
       "</div>"
      ]
     },
     "execution_count": 9,
     "metadata": {},
     "output_type": "execute_result"
    }
   ],
   "execution_count": 9
  },
  {
   "metadata": {
    "ExecuteTime": {
     "end_time": "2025-04-21T20:11:21.727416Z",
     "start_time": "2025-04-21T20:11:21.723078Z"
    }
   },
   "cell_type": "code",
   "source": "sets['year'].min()",
   "id": "289839780fab1c9d",
   "outputs": [
    {
     "data": {
      "text/plain": [
       "np.int64(1949)"
      ]
     },
     "execution_count": 10,
     "metadata": {},
     "output_type": "execute_result"
    }
   ],
   "execution_count": 10
  },
  {
   "metadata": {
    "ExecuteTime": {
     "end_time": "2025-04-21T20:11:21.831994Z",
     "start_time": "2025-04-21T20:11:21.821768Z"
    }
   },
   "cell_type": "code",
   "source": "sets.sort_values('year').head()",
   "id": "eb73b826d9327838",
   "outputs": [
    {
     "data": {
      "text/plain": [
       "       set_num                               name  year  theme_id  num_parts  \\\n",
       "14931  700.1-1         Extra-Large Gift Set (ABB)  1949       365        142   \n",
       "14949  700.3-1              Medium Gift Set (ABB)  1949       365        142   \n",
       "14956  700.B-1  Small Doors and Windows Set (ABB)  1949       371         12   \n",
       "14944  700.2-1               Large Gift Set (ABB)  1949       365        178   \n",
       "14955  700.A-1              Small Brick Set (ABB)  1949       371         24   \n",
       "\n",
       "                                                 img_url  \n",
       "14931  https://cdn.rebrickable.com/media/sets/700.1-1...  \n",
       "14949  https://cdn.rebrickable.com/media/sets/700.3-1...  \n",
       "14956  https://cdn.rebrickable.com/media/sets/700.b-1...  \n",
       "14944  https://cdn.rebrickable.com/media/sets/700.2-1...  \n",
       "14955  https://cdn.rebrickable.com/media/sets/700.a-1...  "
      ],
      "text/html": [
       "<div>\n",
       "<style scoped>\n",
       "    .dataframe tbody tr th:only-of-type {\n",
       "        vertical-align: middle;\n",
       "    }\n",
       "\n",
       "    .dataframe tbody tr th {\n",
       "        vertical-align: top;\n",
       "    }\n",
       "\n",
       "    .dataframe thead th {\n",
       "        text-align: right;\n",
       "    }\n",
       "</style>\n",
       "<table border=\"1\" class=\"dataframe\">\n",
       "  <thead>\n",
       "    <tr style=\"text-align: right;\">\n",
       "      <th></th>\n",
       "      <th>set_num</th>\n",
       "      <th>name</th>\n",
       "      <th>year</th>\n",
       "      <th>theme_id</th>\n",
       "      <th>num_parts</th>\n",
       "      <th>img_url</th>\n",
       "    </tr>\n",
       "  </thead>\n",
       "  <tbody>\n",
       "    <tr>\n",
       "      <th>14931</th>\n",
       "      <td>700.1-1</td>\n",
       "      <td>Extra-Large Gift Set (ABB)</td>\n",
       "      <td>1949</td>\n",
       "      <td>365</td>\n",
       "      <td>142</td>\n",
       "      <td>https://cdn.rebrickable.com/media/sets/700.1-1...</td>\n",
       "    </tr>\n",
       "    <tr>\n",
       "      <th>14949</th>\n",
       "      <td>700.3-1</td>\n",
       "      <td>Medium Gift Set (ABB)</td>\n",
       "      <td>1949</td>\n",
       "      <td>365</td>\n",
       "      <td>142</td>\n",
       "      <td>https://cdn.rebrickable.com/media/sets/700.3-1...</td>\n",
       "    </tr>\n",
       "    <tr>\n",
       "      <th>14956</th>\n",
       "      <td>700.B-1</td>\n",
       "      <td>Small Doors and Windows Set (ABB)</td>\n",
       "      <td>1949</td>\n",
       "      <td>371</td>\n",
       "      <td>12</td>\n",
       "      <td>https://cdn.rebrickable.com/media/sets/700.b-1...</td>\n",
       "    </tr>\n",
       "    <tr>\n",
       "      <th>14944</th>\n",
       "      <td>700.2-1</td>\n",
       "      <td>Large Gift Set (ABB)</td>\n",
       "      <td>1949</td>\n",
       "      <td>365</td>\n",
       "      <td>178</td>\n",
       "      <td>https://cdn.rebrickable.com/media/sets/700.2-1...</td>\n",
       "    </tr>\n",
       "    <tr>\n",
       "      <th>14955</th>\n",
       "      <td>700.A-1</td>\n",
       "      <td>Small Brick Set (ABB)</td>\n",
       "      <td>1949</td>\n",
       "      <td>371</td>\n",
       "      <td>24</td>\n",
       "      <td>https://cdn.rebrickable.com/media/sets/700.a-1...</td>\n",
       "    </tr>\n",
       "  </tbody>\n",
       "</table>\n",
       "</div>"
      ]
     },
     "execution_count": 11,
     "metadata": {},
     "output_type": "execute_result"
    }
   ],
   "execution_count": 11
  },
  {
   "metadata": {
    "ExecuteTime": {
     "end_time": "2025-04-21T20:11:21.957084Z",
     "start_time": "2025-04-21T20:11:21.948170Z"
    }
   },
   "cell_type": "code",
   "source": "sets[sets['year'] == 1949]",
   "id": "c107daf5248b7fbb",
   "outputs": [
    {
     "data": {
      "text/plain": [
       "       set_num                               name  year  theme_id  num_parts  \\\n",
       "14931  700.1-1         Extra-Large Gift Set (ABB)  1949       365        142   \n",
       "14944  700.2-1               Large Gift Set (ABB)  1949       365        178   \n",
       "14949  700.3-1              Medium Gift Set (ABB)  1949       365        142   \n",
       "14955  700.A-1              Small Brick Set (ABB)  1949       371         24   \n",
       "14956  700.B-1  Small Doors and Windows Set (ABB)  1949       371         12   \n",
       "\n",
       "                                                 img_url  \n",
       "14931  https://cdn.rebrickable.com/media/sets/700.1-1...  \n",
       "14944  https://cdn.rebrickable.com/media/sets/700.2-1...  \n",
       "14949  https://cdn.rebrickable.com/media/sets/700.3-1...  \n",
       "14955  https://cdn.rebrickable.com/media/sets/700.a-1...  \n",
       "14956  https://cdn.rebrickable.com/media/sets/700.b-1...  "
      ],
      "text/html": [
       "<div>\n",
       "<style scoped>\n",
       "    .dataframe tbody tr th:only-of-type {\n",
       "        vertical-align: middle;\n",
       "    }\n",
       "\n",
       "    .dataframe tbody tr th {\n",
       "        vertical-align: top;\n",
       "    }\n",
       "\n",
       "    .dataframe thead th {\n",
       "        text-align: right;\n",
       "    }\n",
       "</style>\n",
       "<table border=\"1\" class=\"dataframe\">\n",
       "  <thead>\n",
       "    <tr style=\"text-align: right;\">\n",
       "      <th></th>\n",
       "      <th>set_num</th>\n",
       "      <th>name</th>\n",
       "      <th>year</th>\n",
       "      <th>theme_id</th>\n",
       "      <th>num_parts</th>\n",
       "      <th>img_url</th>\n",
       "    </tr>\n",
       "  </thead>\n",
       "  <tbody>\n",
       "    <tr>\n",
       "      <th>14931</th>\n",
       "      <td>700.1-1</td>\n",
       "      <td>Extra-Large Gift Set (ABB)</td>\n",
       "      <td>1949</td>\n",
       "      <td>365</td>\n",
       "      <td>142</td>\n",
       "      <td>https://cdn.rebrickable.com/media/sets/700.1-1...</td>\n",
       "    </tr>\n",
       "    <tr>\n",
       "      <th>14944</th>\n",
       "      <td>700.2-1</td>\n",
       "      <td>Large Gift Set (ABB)</td>\n",
       "      <td>1949</td>\n",
       "      <td>365</td>\n",
       "      <td>178</td>\n",
       "      <td>https://cdn.rebrickable.com/media/sets/700.2-1...</td>\n",
       "    </tr>\n",
       "    <tr>\n",
       "      <th>14949</th>\n",
       "      <td>700.3-1</td>\n",
       "      <td>Medium Gift Set (ABB)</td>\n",
       "      <td>1949</td>\n",
       "      <td>365</td>\n",
       "      <td>142</td>\n",
       "      <td>https://cdn.rebrickable.com/media/sets/700.3-1...</td>\n",
       "    </tr>\n",
       "    <tr>\n",
       "      <th>14955</th>\n",
       "      <td>700.A-1</td>\n",
       "      <td>Small Brick Set (ABB)</td>\n",
       "      <td>1949</td>\n",
       "      <td>371</td>\n",
       "      <td>24</td>\n",
       "      <td>https://cdn.rebrickable.com/media/sets/700.a-1...</td>\n",
       "    </tr>\n",
       "    <tr>\n",
       "      <th>14956</th>\n",
       "      <td>700.B-1</td>\n",
       "      <td>Small Doors and Windows Set (ABB)</td>\n",
       "      <td>1949</td>\n",
       "      <td>371</td>\n",
       "      <td>12</td>\n",
       "      <td>https://cdn.rebrickable.com/media/sets/700.b-1...</td>\n",
       "    </tr>\n",
       "  </tbody>\n",
       "</table>\n",
       "</div>"
      ]
     },
     "execution_count": 12,
     "metadata": {},
     "output_type": "execute_result"
    }
   ],
   "execution_count": 12
  },
  {
   "metadata": {
    "ExecuteTime": {
     "end_time": "2025-04-21T20:11:22.063313Z",
     "start_time": "2025-04-21T20:11:22.052046Z"
    }
   },
   "cell_type": "code",
   "source": "sets.sort_values('num_parts', ascending=False).head()",
   "id": "f38b7117c90effeb",
   "outputs": [
    {
     "data": {
      "text/plain": [
       "        set_num                           name  year  theme_id  num_parts  \\\n",
       "4890    31203-1                      World Map  2021       709      11695   \n",
       "470     10307-1                   Eiffel Tower  2022       721      10001   \n",
       "23175  BIGBOX-1  The Ultimate Battle for Chima  2015       571       9987   \n",
       "456     10294-1                        Titanic  2021       721       9092   \n",
       "437     10276-1                      Colosseum  2020       721       9036   \n",
       "\n",
       "                                                 img_url  \n",
       "4890   https://cdn.rebrickable.com/media/sets/31203-1...  \n",
       "470    https://cdn.rebrickable.com/media/sets/10307-1...  \n",
       "23175  https://cdn.rebrickable.com/media/sets/bigbox-...  \n",
       "456    https://cdn.rebrickable.com/media/sets/10294-1...  \n",
       "437    https://cdn.rebrickable.com/media/sets/10276-1...  "
      ],
      "text/html": [
       "<div>\n",
       "<style scoped>\n",
       "    .dataframe tbody tr th:only-of-type {\n",
       "        vertical-align: middle;\n",
       "    }\n",
       "\n",
       "    .dataframe tbody tr th {\n",
       "        vertical-align: top;\n",
       "    }\n",
       "\n",
       "    .dataframe thead th {\n",
       "        text-align: right;\n",
       "    }\n",
       "</style>\n",
       "<table border=\"1\" class=\"dataframe\">\n",
       "  <thead>\n",
       "    <tr style=\"text-align: right;\">\n",
       "      <th></th>\n",
       "      <th>set_num</th>\n",
       "      <th>name</th>\n",
       "      <th>year</th>\n",
       "      <th>theme_id</th>\n",
       "      <th>num_parts</th>\n",
       "      <th>img_url</th>\n",
       "    </tr>\n",
       "  </thead>\n",
       "  <tbody>\n",
       "    <tr>\n",
       "      <th>4890</th>\n",
       "      <td>31203-1</td>\n",
       "      <td>World Map</td>\n",
       "      <td>2021</td>\n",
       "      <td>709</td>\n",
       "      <td>11695</td>\n",
       "      <td>https://cdn.rebrickable.com/media/sets/31203-1...</td>\n",
       "    </tr>\n",
       "    <tr>\n",
       "      <th>470</th>\n",
       "      <td>10307-1</td>\n",
       "      <td>Eiffel Tower</td>\n",
       "      <td>2022</td>\n",
       "      <td>721</td>\n",
       "      <td>10001</td>\n",
       "      <td>https://cdn.rebrickable.com/media/sets/10307-1...</td>\n",
       "    </tr>\n",
       "    <tr>\n",
       "      <th>23175</th>\n",
       "      <td>BIGBOX-1</td>\n",
       "      <td>The Ultimate Battle for Chima</td>\n",
       "      <td>2015</td>\n",
       "      <td>571</td>\n",
       "      <td>9987</td>\n",
       "      <td>https://cdn.rebrickable.com/media/sets/bigbox-...</td>\n",
       "    </tr>\n",
       "    <tr>\n",
       "      <th>456</th>\n",
       "      <td>10294-1</td>\n",
       "      <td>Titanic</td>\n",
       "      <td>2021</td>\n",
       "      <td>721</td>\n",
       "      <td>9092</td>\n",
       "      <td>https://cdn.rebrickable.com/media/sets/10294-1...</td>\n",
       "    </tr>\n",
       "    <tr>\n",
       "      <th>437</th>\n",
       "      <td>10276-1</td>\n",
       "      <td>Colosseum</td>\n",
       "      <td>2020</td>\n",
       "      <td>721</td>\n",
       "      <td>9036</td>\n",
       "      <td>https://cdn.rebrickable.com/media/sets/10276-1...</td>\n",
       "    </tr>\n",
       "  </tbody>\n",
       "</table>\n",
       "</div>"
      ]
     },
     "execution_count": 13,
     "metadata": {},
     "output_type": "execute_result"
    }
   ],
   "execution_count": 13
  },
  {
   "metadata": {
    "ExecuteTime": {
     "end_time": "2025-04-21T20:11:22.203812Z",
     "start_time": "2025-04-21T20:11:22.191966Z"
    }
   },
   "cell_type": "code",
   "source": "sets.groupby('year').count()",
   "id": "e89409a930cb75e8",
   "outputs": [
    {
     "data": {
      "text/plain": [
       "      set_num  name  theme_id  num_parts  img_url\n",
       "year                                             \n",
       "1949        5     5         5          5        5\n",
       "1950        6     6         6          6        6\n",
       "1953        4     4         4          4        4\n",
       "1954       14    14        14         14       14\n",
       "1955       39    39        39         39       39\n",
       "...       ...   ...       ...        ...      ...\n",
       "2021     1219  1219      1219       1219     1219\n",
       "2022     1209  1209      1209       1209     1209\n",
       "2023     1140  1140      1140       1140     1140\n",
       "2024     1199  1199      1199       1199     1199\n",
       "2025      404   404       404        404      404\n",
       "\n",
       "[75 rows x 5 columns]"
      ],
      "text/html": [
       "<div>\n",
       "<style scoped>\n",
       "    .dataframe tbody tr th:only-of-type {\n",
       "        vertical-align: middle;\n",
       "    }\n",
       "\n",
       "    .dataframe tbody tr th {\n",
       "        vertical-align: top;\n",
       "    }\n",
       "\n",
       "    .dataframe thead th {\n",
       "        text-align: right;\n",
       "    }\n",
       "</style>\n",
       "<table border=\"1\" class=\"dataframe\">\n",
       "  <thead>\n",
       "    <tr style=\"text-align: right;\">\n",
       "      <th></th>\n",
       "      <th>set_num</th>\n",
       "      <th>name</th>\n",
       "      <th>theme_id</th>\n",
       "      <th>num_parts</th>\n",
       "      <th>img_url</th>\n",
       "    </tr>\n",
       "    <tr>\n",
       "      <th>year</th>\n",
       "      <th></th>\n",
       "      <th></th>\n",
       "      <th></th>\n",
       "      <th></th>\n",
       "      <th></th>\n",
       "    </tr>\n",
       "  </thead>\n",
       "  <tbody>\n",
       "    <tr>\n",
       "      <th>1949</th>\n",
       "      <td>5</td>\n",
       "      <td>5</td>\n",
       "      <td>5</td>\n",
       "      <td>5</td>\n",
       "      <td>5</td>\n",
       "    </tr>\n",
       "    <tr>\n",
       "      <th>1950</th>\n",
       "      <td>6</td>\n",
       "      <td>6</td>\n",
       "      <td>6</td>\n",
       "      <td>6</td>\n",
       "      <td>6</td>\n",
       "    </tr>\n",
       "    <tr>\n",
       "      <th>1953</th>\n",
       "      <td>4</td>\n",
       "      <td>4</td>\n",
       "      <td>4</td>\n",
       "      <td>4</td>\n",
       "      <td>4</td>\n",
       "    </tr>\n",
       "    <tr>\n",
       "      <th>1954</th>\n",
       "      <td>14</td>\n",
       "      <td>14</td>\n",
       "      <td>14</td>\n",
       "      <td>14</td>\n",
       "      <td>14</td>\n",
       "    </tr>\n",
       "    <tr>\n",
       "      <th>1955</th>\n",
       "      <td>39</td>\n",
       "      <td>39</td>\n",
       "      <td>39</td>\n",
       "      <td>39</td>\n",
       "      <td>39</td>\n",
       "    </tr>\n",
       "    <tr>\n",
       "      <th>...</th>\n",
       "      <td>...</td>\n",
       "      <td>...</td>\n",
       "      <td>...</td>\n",
       "      <td>...</td>\n",
       "      <td>...</td>\n",
       "    </tr>\n",
       "    <tr>\n",
       "      <th>2021</th>\n",
       "      <td>1219</td>\n",
       "      <td>1219</td>\n",
       "      <td>1219</td>\n",
       "      <td>1219</td>\n",
       "      <td>1219</td>\n",
       "    </tr>\n",
       "    <tr>\n",
       "      <th>2022</th>\n",
       "      <td>1209</td>\n",
       "      <td>1209</td>\n",
       "      <td>1209</td>\n",
       "      <td>1209</td>\n",
       "      <td>1209</td>\n",
       "    </tr>\n",
       "    <tr>\n",
       "      <th>2023</th>\n",
       "      <td>1140</td>\n",
       "      <td>1140</td>\n",
       "      <td>1140</td>\n",
       "      <td>1140</td>\n",
       "      <td>1140</td>\n",
       "    </tr>\n",
       "    <tr>\n",
       "      <th>2024</th>\n",
       "      <td>1199</td>\n",
       "      <td>1199</td>\n",
       "      <td>1199</td>\n",
       "      <td>1199</td>\n",
       "      <td>1199</td>\n",
       "    </tr>\n",
       "    <tr>\n",
       "      <th>2025</th>\n",
       "      <td>404</td>\n",
       "      <td>404</td>\n",
       "      <td>404</td>\n",
       "      <td>404</td>\n",
       "      <td>404</td>\n",
       "    </tr>\n",
       "  </tbody>\n",
       "</table>\n",
       "<p>75 rows × 5 columns</p>\n",
       "</div>"
      ]
     },
     "execution_count": 14,
     "metadata": {},
     "output_type": "execute_result"
    }
   ],
   "execution_count": 14
  },
  {
   "metadata": {
    "ExecuteTime": {
     "end_time": "2025-04-21T20:11:22.574343Z",
     "start_time": "2025-04-21T20:11:22.348275Z"
    }
   },
   "cell_type": "code",
   "source": [
    "# Visualise the Data with Matplotlib\n",
    "\n",
    "plt.xlabel('Year')\n",
    "plt.ylabel('Number of sets')\n",
    "plt.xlim(1949, 2025)\n",
    "\n",
    "# Since the year 2025 only started it is a good idea to don't include it in the analysis yet\n",
    "sets_per_year = sets.groupby('year').count()[:-1]\n",
    "\n",
    "plt.plot(sets_per_year.index, sets_per_year['set_num'])"
   ],
   "id": "f53275527f7c8955",
   "outputs": [
    {
     "data": {
      "text/plain": [
       "[<matplotlib.lines.Line2D at 0x109a674d0>]"
      ]
     },
     "execution_count": 15,
     "metadata": {},
     "output_type": "execute_result"
    },
    {
     "data": {
      "text/plain": [
       "<Figure size 640x480 with 1 Axes>"
      ],
      "image/png": "[encoded data removed]"
     },
     "metadata": {},
     "output_type": "display_data"
    }
   ],
   "execution_count": 15
  },
  {
   "metadata": {
    "ExecuteTime": {
     "end_time": "2025-04-21T20:11:22.636946Z",
     "start_time": "2025-04-21T20:11:22.621844Z"
    }
   },
   "cell_type": "code",
   "source": [
    "themes_by_year = sets.groupby('year').agg({'theme_id': pd.Series.nunique})\n",
    "themes_by_year.rename(columns={'theme_id': \"nr_themes\"}, inplace=True)\n",
    "themes_by_year.tail()"
   ],
   "id": "9f6c9c437e2ddd72",
   "outputs": [
    {
     "data": {
      "text/plain": [
       "      nr_themes\n",
       "year           \n",
       "2021         99\n",
       "2022         95\n",
       "2023        105\n",
       "2024        103\n",
       "2025         67"
      ],
      "text/html": [
       "<div>\n",
       "<style scoped>\n",
       "    .dataframe tbody tr th:only-of-type {\n",
       "        vertical-align: middle;\n",
       "    }\n",
       "\n",
       "    .dataframe tbody tr th {\n",
       "        vertical-align: top;\n",
       "    }\n",
       "\n",
       "    .dataframe thead th {\n",
       "        text-align: right;\n",
       "    }\n",
       "</style>\n",
       "<table border=\"1\" class=\"dataframe\">\n",
       "  <thead>\n",
       "    <tr style=\"text-align: right;\">\n",
       "      <th></th>\n",
       "      <th>nr_themes</th>\n",
       "    </tr>\n",
       "    <tr>\n",
       "      <th>year</th>\n",
       "      <th></th>\n",
       "    </tr>\n",
       "  </thead>\n",
       "  <tbody>\n",
       "    <tr>\n",
       "      <th>2021</th>\n",
       "      <td>99</td>\n",
       "    </tr>\n",
       "    <tr>\n",
       "      <th>2022</th>\n",
       "      <td>95</td>\n",
       "    </tr>\n",
       "    <tr>\n",
       "      <th>2023</th>\n",
       "      <td>105</td>\n",
       "    </tr>\n",
       "    <tr>\n",
       "      <th>2024</th>\n",
       "      <td>103</td>\n",
       "    </tr>\n",
       "    <tr>\n",
       "      <th>2025</th>\n",
       "      <td>67</td>\n",
       "    </tr>\n",
       "  </tbody>\n",
       "</table>\n",
       "</div>"
      ]
     },
     "execution_count": 16,
     "metadata": {},
     "output_type": "execute_result"
    }
   ],
   "execution_count": 16
  },
  {
   "metadata": {
    "ExecuteTime": {
     "end_time": "2025-04-21T20:11:22.832543Z",
     "start_time": "2025-04-21T20:11:22.708657Z"
    }
   },
   "cell_type": "code",
   "source": [
    "plt.xlabel(\"Year\")\n",
    "plt.ylabel(\"Number of themes\")\n",
    "\n",
    "plt.plot(themes_by_year.index[:-1], themes_by_year.nr_themes[:-1])"
   ],
   "id": "c8b350bec2df04f7",
   "outputs": [
    {
     "data": {
      "text/plain": [
       "[<matplotlib.lines.Line2D at 0x109c66a50>]"
      ]
     },
     "execution_count": 17,
     "metadata": {},
     "output_type": "execute_result"
    },
    {
     "data": {
      "text/plain": [
       "<Figure size 640x480 with 1 Axes>"
      ],
      "image/png": "[encoded data removed]"
     },
     "metadata": {},
     "output_type": "display_data"
    }
   ],
   "execution_count": 17
  },
  {
   "metadata": {
    "ExecuteTime": {
     "end_time": "2025-04-21T20:11:23.073520Z",
     "start_time": "2025-04-21T20:11:22.885569Z"
    }
   },
   "cell_type": "code",
   "source": [
    "ax1 = plt.gca() # get current axes\n",
    "ax2 = ax1.twinx()\n",
    "\n",
    "# Add styling\n",
    "ax1.plot(sets_per_year.index, sets_per_year['set_num'], color='g')\n",
    "ax2.plot(themes_by_year.index[:-1], themes_by_year.nr_themes[:-1], color='b')\n",
    "\n",
    "ax1.set_xlabel('Year')\n",
    "ax1.set_ylabel('Number of Sets', color='green')\n",
    "ax2.set_ylabel('Number of Themes', color='blue')"
   ],
   "id": "16cf7dc4b3aea9fa",
   "outputs": [
    {
     "data": {
      "text/plain": [
       "Text(0, 0.5, 'Number of Themes')"
      ]
     },
     "execution_count": 18,
     "metadata": {},
     "output_type": "execute_result"
    },
    {
     "data": {
      "text/plain": [
       "<Figure size 640x480 with 2 Axes>"
      ],
      "image/png": "[encoded data removed]"
     },
     "metadata": {},
     "output_type": "display_data"
    }
   ],
   "execution_count": 18
  },
  {
   "metadata": {
    "ExecuteTime": {
     "end_time": "2025-04-21T20:11:23.119832Z",
     "start_time": "2025-04-21T20:11:23.107346Z"
    }
   },
   "cell_type": "code",
   "source": [
    " # Average number of parts per year\n",
    " parts_per_set = sets.groupby('year').agg({'num_parts': pd.Series.mean})\n",
    " parts_per_set.head()"
   ],
   "id": "f1b68c1d9a40426d",
   "outputs": [
    {
     "data": {
      "text/plain": [
       "      num_parts\n",
       "year           \n",
       "1949  99.600000\n",
       "1950   1.000000\n",
       "1953  12.500000\n",
       "1954   8.357143\n",
       "1955  12.205128"
      ],
      "text/html": [
       "<div>\n",
       "<style scoped>\n",
       "    .dataframe tbody tr th:only-of-type {\n",
       "        vertical-align: middle;\n",
       "    }\n",
       "\n",
       "    .dataframe tbody tr th {\n",
       "        vertical-align: top;\n",
       "    }\n",
       "\n",
       "    .dataframe thead th {\n",
       "        text-align: right;\n",
       "    }\n",
       "</style>\n",
       "<table border=\"1\" class=\"dataframe\">\n",
       "  <thead>\n",
       "    <tr style=\"text-align: right;\">\n",
       "      <th></th>\n",
       "      <th>num_parts</th>\n",
       "    </tr>\n",
       "    <tr>\n",
       "      <th>year</th>\n",
       "      <th></th>\n",
       "    </tr>\n",
       "  </thead>\n",
       "  <tbody>\n",
       "    <tr>\n",
       "      <th>1949</th>\n",
       "      <td>99.600000</td>\n",
       "    </tr>\n",
       "    <tr>\n",
       "      <th>1950</th>\n",
       "      <td>1.000000</td>\n",
       "    </tr>\n",
       "    <tr>\n",
       "      <th>1953</th>\n",
       "      <td>12.500000</td>\n",
       "    </tr>\n",
       "    <tr>\n",
       "      <th>1954</th>\n",
       "      <td>8.357143</td>\n",
       "    </tr>\n",
       "    <tr>\n",
       "      <th>1955</th>\n",
       "      <td>12.205128</td>\n",
       "    </tr>\n",
       "  </tbody>\n",
       "</table>\n",
       "</div>"
      ]
     },
     "execution_count": 19,
     "metadata": {},
     "output_type": "execute_result"
    }
   ],
   "execution_count": 19
  },
  {
   "metadata": {
    "ExecuteTime": {
     "end_time": "2025-04-21T20:11:23.218094Z",
     "start_time": "2025-04-21T20:11:23.214473Z"
    }
   },
   "cell_type": "code",
   "source": "",
   "id": "b654985976d10905",
   "outputs": [],
   "execution_count": null
  },
  {
   "metadata": {
    "ExecuteTime": {
     "end_time": "2025-04-21T20:11:23.420771Z",
     "start_time": "2025-04-21T20:11:23.277135Z"
    }
   },
   "cell_type": "code",
   "source": [
    "# Generate a scatter plot to visualise the data\n",
    "plt.xlabel(\"Year\")\n",
    "plt.ylabel(\"Average Number of Parts per Set\")\n",
    "plt.scatter(parts_per_set.index[:-1], parts_per_set.num_parts[:-1])"
   ],
   "id": "77a25149b1b7653a",
   "outputs": [
    {
     "data": {
      "text/plain": [
       "<matplotlib.collections.PathCollection at 0x109d2a960>"
      ]
     },
     "execution_count": 20,
     "metadata": {},
     "output_type": "execute_result"
    },
    {
     "data": {
      "text/plain": [
       "<Figure size 640x480 with 1 Axes>"
      ],
      "image/png": "[encoded data removed]"
     },
     "metadata": {},
     "output_type": "display_data"
    }
   ],
   "execution_count": 20
  },
  {
   "metadata": {
    "ExecuteTime": {
     "end_time": "2025-04-21T20:11:23.429584Z",
     "start_time": "2025-04-21T20:11:23.427095Z"
    }
   },
   "cell_type": "code",
   "source": [
    "# Upward trend in the size and complexity of the LEGO set based on the average number of parts.\n",
    "\n",
    "#Also it would be nice to research the fact that LEGO is a privately held company, so its financial information isn't updated in real time; Therefore we cannot compare it against company's revenue."
   ],
   "id": "d67308ace8b91952",
   "outputs": [],
   "execution_count": 21
  },
  {
   "metadata": {
    "ExecuteTime": {
     "end_time": "2025-04-21T20:11:23.456709Z",
     "start_time": "2025-04-21T20:11:23.449178Z"
    }
   },
   "cell_type": "code",
   "source": "themes[themes['name'] == 'Star Wars']",
   "id": "b8c588d9c383015a",
   "outputs": [
    {
     "data": {
      "text/plain": [
       "      id       name  parent_id\n",
       "5     18  Star Wars        1.0\n",
       "74   158  Star Wars        NaN\n",
       "95   209  Star Wars      207.0\n",
       "122  261  Star Wars      258.0"
      ],
      "text/html": [
       "<div>\n",
       "<style scoped>\n",
       "    .dataframe tbody tr th:only-of-type {\n",
       "        vertical-align: middle;\n",
       "    }\n",
       "\n",
       "    .dataframe tbody tr th {\n",
       "        vertical-align: top;\n",
       "    }\n",
       "\n",
       "    .dataframe thead th {\n",
       "        text-align: right;\n",
       "    }\n",
       "</style>\n",
       "<table border=\"1\" class=\"dataframe\">\n",
       "  <thead>\n",
       "    <tr style=\"text-align: right;\">\n",
       "      <th></th>\n",
       "      <th>id</th>\n",
       "      <th>name</th>\n",
       "      <th>parent_id</th>\n",
       "    </tr>\n",
       "  </thead>\n",
       "  <tbody>\n",
       "    <tr>\n",
       "      <th>5</th>\n",
       "      <td>18</td>\n",
       "      <td>Star Wars</td>\n",
       "      <td>1.0</td>\n",
       "    </tr>\n",
       "    <tr>\n",
       "      <th>74</th>\n",
       "      <td>158</td>\n",
       "      <td>Star Wars</td>\n",
       "      <td>NaN</td>\n",
       "    </tr>\n",
       "    <tr>\n",
       "      <th>95</th>\n",
       "      <td>209</td>\n",
       "      <td>Star Wars</td>\n",
       "      <td>207.0</td>\n",
       "    </tr>\n",
       "    <tr>\n",
       "      <th>122</th>\n",
       "      <td>261</td>\n",
       "      <td>Star Wars</td>\n",
       "      <td>258.0</td>\n",
       "    </tr>\n",
       "  </tbody>\n",
       "</table>\n",
       "</div>"
      ]
     },
     "execution_count": 22,
     "metadata": {},
     "output_type": "execute_result"
    }
   ],
   "execution_count": 22
  },
  {
   "metadata": {
    "ExecuteTime": {
     "end_time": "2025-04-21T20:11:23.568219Z",
     "start_time": "2025-04-21T20:11:23.558645Z"
    }
   },
   "cell_type": "code",
   "source": "sets[sets['theme_id']== 18]",
   "id": "cac08351a6b0ef11",
   "outputs": [
    {
     "data": {
      "text/plain": [
       "       set_num                                name  year  theme_id  num_parts  \\\n",
       "13881  65081-1  R2-D2 / C-3PO Droid Collectors Set  2002        18          1   \n",
       "18395   8000-1                           Pit Droid  2000        18        223   \n",
       "18402   8001-1                        Battle Droid  2000        18        336   \n",
       "18413   8002-1                     Destroyer Droid  2000        18        567   \n",
       "18454   8007-1                               C-3PO  2001        18        339   \n",
       "18455   8008-1                        Stormtrooper  2001        18        361   \n",
       "18456   8009-1                               R2-D2  2002        18        239   \n",
       "18457   8010-1                         Darth Vader  2002        18        388   \n",
       "18469   8011-1                          Jango Fett  2002        18        426   \n",
       "18476   8012-1                  Super Battle Droid  2002        18        378   \n",
       "23734  K8008-1      Darth Vader / Stormtrooper Kit  2002        18          0   \n",
       "\n",
       "                                                 img_url  \n",
       "13881  https://cdn.rebrickable.com/media/sets/65081-1...  \n",
       "18395  https://cdn.rebrickable.com/media/sets/8000-1.jpg  \n",
       "18402  https://cdn.rebrickable.com/media/sets/8001-1.jpg  \n",
       "18413  https://cdn.rebrickable.com/media/sets/8002-1.jpg  \n",
       "18454  https://cdn.rebrickable.com/media/sets/8007-1.jpg  \n",
       "18455  https://cdn.rebrickable.com/media/sets/8008-1.jpg  \n",
       "18456  https://cdn.rebrickable.com/media/sets/8009-1.jpg  \n",
       "18457  https://cdn.rebrickable.com/media/sets/8010-1.jpg  \n",
       "18469  https://cdn.rebrickable.com/media/sets/8011-1.jpg  \n",
       "18476  https://cdn.rebrickable.com/media/sets/8012-1.jpg  \n",
       "23734  https://cdn.rebrickable.com/media/sets/k8008-1...  "
      ],
      "text/html": [
       "<div>\n",
       "<style scoped>\n",
       "    .dataframe tbody tr th:only-of-type {\n",
       "        vertical-align: middle;\n",
       "    }\n",
       "\n",
       "    .dataframe tbody tr th {\n",
       "        vertical-align: top;\n",
       "    }\n",
       "\n",
       "    .dataframe thead th {\n",
       "        text-align: right;\n",
       "    }\n",
       "</style>\n",
       "<table border=\"1\" class=\"dataframe\">\n",
       "  <thead>\n",
       "    <tr style=\"text-align: right;\">\n",
       "      <th></th>\n",
       "      <th>set_num</th>\n",
       "      <th>name</th>\n",
       "      <th>year</th>\n",
       "      <th>theme_id</th>\n",
       "      <th>num_parts</th>\n",
       "      <th>img_url</th>\n",
       "    </tr>\n",
       "  </thead>\n",
       "  <tbody>\n",
       "    <tr>\n",
       "      <th>13881</th>\n",
       "      <td>65081-1</td>\n",
       "      <td>R2-D2 / C-3PO Droid Collectors Set</td>\n",
       "      <td>2002</td>\n",
       "      <td>18</td>\n",
       "      <td>1</td>\n",
       "      <td>https://cdn.rebrickable.com/media/sets/65081-1...</td>\n",
       "    </tr>\n",
       "    <tr>\n",
       "      <th>18395</th>\n",
       "      <td>8000-1</td>\n",
       "      <td>Pit Droid</td>\n",
       "      <td>2000</td>\n",
       "      <td>18</td>\n",
       "      <td>223</td>\n",
       "      <td>https://cdn.rebrickable.com/media/sets/8000-1.jpg</td>\n",
       "    </tr>\n",
       "    <tr>\n",
       "      <th>18402</th>\n",
       "      <td>8001-1</td>\n",
       "      <td>Battle Droid</td>\n",
       "      <td>2000</td>\n",
       "      <td>18</td>\n",
       "      <td>336</td>\n",
       "      <td>https://cdn.rebrickable.com/media/sets/8001-1.jpg</td>\n",
       "    </tr>\n",
       "    <tr>\n",
       "      <th>18413</th>\n",
       "      <td>8002-1</td>\n",
       "      <td>Destroyer Droid</td>\n",
       "      <td>2000</td>\n",
       "      <td>18</td>\n",
       "      <td>567</td>\n",
       "      <td>https://cdn.rebrickable.com/media/sets/8002-1.jpg</td>\n",
       "    </tr>\n",
       "    <tr>\n",
       "      <th>18454</th>\n",
       "      <td>8007-1</td>\n",
       "      <td>C-3PO</td>\n",
       "      <td>2001</td>\n",
       "      <td>18</td>\n",
       "      <td>339</td>\n",
       "      <td>https://cdn.rebrickable.com/media/sets/8007-1.jpg</td>\n",
       "    </tr>\n",
       "    <tr>\n",
       "      <th>18455</th>\n",
       "      <td>8008-1</td>\n",
       "      <td>Stormtrooper</td>\n",
       "      <td>2001</td>\n",
       "      <td>18</td>\n",
       "      <td>361</td>\n",
       "      <td>https://cdn.rebrickable.com/media/sets/8008-1.jpg</td>\n",
       "    </tr>\n",
       "    <tr>\n",
       "      <th>18456</th>\n",
       "      <td>8009-1</td>\n",
       "      <td>R2-D2</td>\n",
       "      <td>2002</td>\n",
       "      <td>18</td>\n",
       "      <td>239</td>\n",
       "      <td>https://cdn.rebrickable.com/media/sets/8009-1.jpg</td>\n",
       "    </tr>\n",
       "    <tr>\n",
       "      <th>18457</th>\n",
       "      <td>8010-1</td>\n",
       "      <td>Darth Vader</td>\n",
       "      <td>2002</td>\n",
       "      <td>18</td>\n",
       "      <td>388</td>\n",
       "      <td>https://cdn.rebrickable.com/media/sets/8010-1.jpg</td>\n",
       "    </tr>\n",
       "    <tr>\n",
       "      <th>18469</th>\n",
       "      <td>8011-1</td>\n",
       "      <td>Jango Fett</td>\n",
       "      <td>2002</td>\n",
       "      <td>18</td>\n",
       "      <td>426</td>\n",
       "      <td>https://cdn.rebrickable.com/media/sets/8011-1.jpg</td>\n",
       "    </tr>\n",
       "    <tr>\n",
       "      <th>18476</th>\n",
       "      <td>8012-1</td>\n",
       "      <td>Super Battle Droid</td>\n",
       "      <td>2002</td>\n",
       "      <td>18</td>\n",
       "      <td>378</td>\n",
       "      <td>https://cdn.rebrickable.com/media/sets/8012-1.jpg</td>\n",
       "    </tr>\n",
       "    <tr>\n",
       "      <th>23734</th>\n",
       "      <td>K8008-1</td>\n",
       "      <td>Darth Vader / Stormtrooper Kit</td>\n",
       "      <td>2002</td>\n",
       "      <td>18</td>\n",
       "      <td>0</td>\n",
       "      <td>https://cdn.rebrickable.com/media/sets/k8008-1...</td>\n",
       "    </tr>\n",
       "  </tbody>\n",
       "</table>\n",
       "</div>"
      ]
     },
     "execution_count": 23,
     "metadata": {},
     "output_type": "execute_result"
    }
   ],
   "execution_count": 23
  },
  {
   "metadata": {
    "ExecuteTime": {
     "end_time": "2025-04-21T20:12:41.543342Z",
     "start_time": "2025-04-21T20:12:41.538282Z"
    }
   },
   "cell_type": "code",
   "source": [
    "# Number of Sets per LEGO Theme\n",
    "set_theme_count = sets[\"theme_id\"].value_counts()\n",
    "set_theme_count[:5]"
   ],
   "id": "1a36ff11f9c97268",
   "outputs": [
    {
     "data": {
      "text/plain": [
       "theme_id\n",
       "501    1239\n",
       "158     956\n",
       "503     782\n",
       "494     621\n",
       "435     567\n",
       "Name: count, dtype: int64"
      ]
     },
     "execution_count": 26,
     "metadata": {},
     "output_type": "execute_result"
    }
   ],
   "execution_count": 26
  },
  {
   "metadata": {},
   "cell_type": "markdown",
   "source": "<img src=\"https://i.imgur.com/Sg4lcjx.png\">",
   "id": "98397bf2a6e50c50"
  },
  {
   "metadata": {
    "ExecuteTime": {
     "end_time": "2025-04-21T20:18:13.146050Z",
     "start_time": "2025-04-21T20:18:13.135843Z"
    }
   },
   "cell_type": "code",
   "source": [
    "# Display themes from themes.csv\n",
    "themes = pd.read_csv('data/themes.csv')\n",
    "themes.head()"
   ],
   "id": "3163d8a7243d07fa",
   "outputs": [
    {
     "data": {
      "text/plain": [
       "   id            name  parent_id\n",
       "0   1         Technic        NaN\n",
       "1   3     Competition        1.0\n",
       "2   4  Expert Builder        1.0\n",
       "3  16      RoboRiders        1.0\n",
       "4  17  Speed Slammers        1.0"
      ],
      "text/html": [
       "<div>\n",
       "<style scoped>\n",
       "    .dataframe tbody tr th:only-of-type {\n",
       "        vertical-align: middle;\n",
       "    }\n",
       "\n",
       "    .dataframe tbody tr th {\n",
       "        vertical-align: top;\n",
       "    }\n",
       "\n",
       "    .dataframe thead th {\n",
       "        text-align: right;\n",
       "    }\n",
       "</style>\n",
       "<table border=\"1\" class=\"dataframe\">\n",
       "  <thead>\n",
       "    <tr style=\"text-align: right;\">\n",
       "      <th></th>\n",
       "      <th>id</th>\n",
       "      <th>name</th>\n",
       "      <th>parent_id</th>\n",
       "    </tr>\n",
       "  </thead>\n",
       "  <tbody>\n",
       "    <tr>\n",
       "      <th>0</th>\n",
       "      <td>1</td>\n",
       "      <td>Technic</td>\n",
       "      <td>NaN</td>\n",
       "    </tr>\n",
       "    <tr>\n",
       "      <th>1</th>\n",
       "      <td>3</td>\n",
       "      <td>Competition</td>\n",
       "      <td>1.0</td>\n",
       "    </tr>\n",
       "    <tr>\n",
       "      <th>2</th>\n",
       "      <td>4</td>\n",
       "      <td>Expert Builder</td>\n",
       "      <td>1.0</td>\n",
       "    </tr>\n",
       "    <tr>\n",
       "      <th>3</th>\n",
       "      <td>16</td>\n",
       "      <td>RoboRiders</td>\n",
       "      <td>1.0</td>\n",
       "    </tr>\n",
       "    <tr>\n",
       "      <th>4</th>\n",
       "      <td>17</td>\n",
       "      <td>Speed Slammers</td>\n",
       "      <td>1.0</td>\n",
       "    </tr>\n",
       "  </tbody>\n",
       "</table>\n",
       "</div>"
      ]
     },
     "execution_count": 27,
     "metadata": {},
     "output_type": "execute_result"
    }
   ],
   "execution_count": 27
  },
  {
   "metadata": {
    "ExecuteTime": {
     "end_time": "2025-04-21T20:19:31.676273Z",
     "start_time": "2025-04-21T20:19:31.669545Z"
    }
   },
   "cell_type": "code",
   "source": [
    "# Search for a particular theme\n",
    "themes[themes.name == 'Star Wars']"
   ],
   "id": "1983c3a644cfb761",
   "outputs": [
    {
     "data": {
      "text/plain": [
       "      id       name  parent_id\n",
       "5     18  Star Wars        1.0\n",
       "74   158  Star Wars        NaN\n",
       "95   209  Star Wars      207.0\n",
       "122  261  Star Wars      258.0"
      ],
      "text/html": [
       "<div>\n",
       "<style scoped>\n",
       "    .dataframe tbody tr th:only-of-type {\n",
       "        vertical-align: middle;\n",
       "    }\n",
       "\n",
       "    .dataframe tbody tr th {\n",
       "        vertical-align: top;\n",
       "    }\n",
       "\n",
       "    .dataframe thead th {\n",
       "        text-align: right;\n",
       "    }\n",
       "</style>\n",
       "<table border=\"1\" class=\"dataframe\">\n",
       "  <thead>\n",
       "    <tr style=\"text-align: right;\">\n",
       "      <th></th>\n",
       "      <th>id</th>\n",
       "      <th>name</th>\n",
       "      <th>parent_id</th>\n",
       "    </tr>\n",
       "  </thead>\n",
       "  <tbody>\n",
       "    <tr>\n",
       "      <th>5</th>\n",
       "      <td>18</td>\n",
       "      <td>Star Wars</td>\n",
       "      <td>1.0</td>\n",
       "    </tr>\n",
       "    <tr>\n",
       "      <th>74</th>\n",
       "      <td>158</td>\n",
       "      <td>Star Wars</td>\n",
       "      <td>NaN</td>\n",
       "    </tr>\n",
       "    <tr>\n",
       "      <th>95</th>\n",
       "      <td>209</td>\n",
       "      <td>Star Wars</td>\n",
       "      <td>207.0</td>\n",
       "    </tr>\n",
       "    <tr>\n",
       "      <th>122</th>\n",
       "      <td>261</td>\n",
       "      <td>Star Wars</td>\n",
       "      <td>258.0</td>\n",
       "    </tr>\n",
       "  </tbody>\n",
       "</table>\n",
       "</div>"
      ]
     },
     "execution_count": 29,
     "metadata": {},
     "output_type": "execute_result"
    }
   ],
   "execution_count": 29
  },
  {
   "metadata": {
    "ExecuteTime": {
     "end_time": "2025-04-21T20:22:55.624540Z",
     "start_time": "2025-04-21T20:22:55.612976Z"
    }
   },
   "cell_type": "code",
   "source": [
    "# Check which products corresponded to a particular theme\n",
    "sets[sets.theme_id == 18]"
   ],
   "id": "4cd1c13cf0cfa648",
   "outputs": [
    {
     "data": {
      "text/plain": [
       "       set_num                                name  year  theme_id  num_parts  \\\n",
       "13881  65081-1  R2-D2 / C-3PO Droid Collectors Set  2002        18          1   \n",
       "18395   8000-1                           Pit Droid  2000        18        223   \n",
       "18402   8001-1                        Battle Droid  2000        18        336   \n",
       "18413   8002-1                     Destroyer Droid  2000        18        567   \n",
       "18454   8007-1                               C-3PO  2001        18        339   \n",
       "18455   8008-1                        Stormtrooper  2001        18        361   \n",
       "18456   8009-1                               R2-D2  2002        18        239   \n",
       "18457   8010-1                         Darth Vader  2002        18        388   \n",
       "18469   8011-1                          Jango Fett  2002        18        426   \n",
       "18476   8012-1                  Super Battle Droid  2002        18        378   \n",
       "23734  K8008-1      Darth Vader / Stormtrooper Kit  2002        18          0   \n",
       "\n",
       "                                                 img_url  \n",
       "13881  https://cdn.rebrickable.com/media/sets/65081-1...  \n",
       "18395  https://cdn.rebrickable.com/media/sets/8000-1.jpg  \n",
       "18402  https://cdn.rebrickable.com/media/sets/8001-1.jpg  \n",
       "18413  https://cdn.rebrickable.com/media/sets/8002-1.jpg  \n",
       "18454  https://cdn.rebrickable.com/media/sets/8007-1.jpg  \n",
       "18455  https://cdn.rebrickable.com/media/sets/8008-1.jpg  \n",
       "18456  https://cdn.rebrickable.com/media/sets/8009-1.jpg  \n",
       "18457  https://cdn.rebrickable.com/media/sets/8010-1.jpg  \n",
       "18469  https://cdn.rebrickable.com/media/sets/8011-1.jpg  \n",
       "18476  https://cdn.rebrickable.com/media/sets/8012-1.jpg  \n",
       "23734  https://cdn.rebrickable.com/media/sets/k8008-1...  "
      ],
      "text/html": [
       "<div>\n",
       "<style scoped>\n",
       "    .dataframe tbody tr th:only-of-type {\n",
       "        vertical-align: middle;\n",
       "    }\n",
       "\n",
       "    .dataframe tbody tr th {\n",
       "        vertical-align: top;\n",
       "    }\n",
       "\n",
       "    .dataframe thead th {\n",
       "        text-align: right;\n",
       "    }\n",
       "</style>\n",
       "<table border=\"1\" class=\"dataframe\">\n",
       "  <thead>\n",
       "    <tr style=\"text-align: right;\">\n",
       "      <th></th>\n",
       "      <th>set_num</th>\n",
       "      <th>name</th>\n",
       "      <th>year</th>\n",
       "      <th>theme_id</th>\n",
       "      <th>num_parts</th>\n",
       "      <th>img_url</th>\n",
       "    </tr>\n",
       "  </thead>\n",
       "  <tbody>\n",
       "    <tr>\n",
       "      <th>13881</th>\n",
       "      <td>65081-1</td>\n",
       "      <td>R2-D2 / C-3PO Droid Collectors Set</td>\n",
       "      <td>2002</td>\n",
       "      <td>18</td>\n",
       "      <td>1</td>\n",
       "      <td>https://cdn.rebrickable.com/media/sets/65081-1...</td>\n",
       "    </tr>\n",
       "    <tr>\n",
       "      <th>18395</th>\n",
       "      <td>8000-1</td>\n",
       "      <td>Pit Droid</td>\n",
       "      <td>2000</td>\n",
       "      <td>18</td>\n",
       "      <td>223</td>\n",
       "      <td>https://cdn.rebrickable.com/media/sets/8000-1.jpg</td>\n",
       "    </tr>\n",
       "    <tr>\n",
       "      <th>18402</th>\n",
       "      <td>8001-1</td>\n",
       "      <td>Battle Droid</td>\n",
       "      <td>2000</td>\n",
       "      <td>18</td>\n",
       "      <td>336</td>\n",
       "      <td>https://cdn.rebrickable.com/media/sets/8001-1.jpg</td>\n",
       "    </tr>\n",
       "    <tr>\n",
       "      <th>18413</th>\n",
       "      <td>8002-1</td>\n",
       "      <td>Destroyer Droid</td>\n",
       "      <td>2000</td>\n",
       "      <td>18</td>\n",
       "      <td>567</td>\n",
       "      <td>https://cdn.rebrickable.com/media/sets/8002-1.jpg</td>\n",
       "    </tr>\n",
       "    <tr>\n",
       "      <th>18454</th>\n",
       "      <td>8007-1</td>\n",
       "      <td>C-3PO</td>\n",
       "      <td>2001</td>\n",
       "      <td>18</td>\n",
       "      <td>339</td>\n",
       "      <td>https://cdn.rebrickable.com/media/sets/8007-1.jpg</td>\n",
       "    </tr>\n",
       "    <tr>\n",
       "      <th>18455</th>\n",
       "      <td>8008-1</td>\n",
       "      <td>Stormtrooper</td>\n",
       "      <td>2001</td>\n",
       "      <td>18</td>\n",
       "      <td>361</td>\n",
       "      <td>https://cdn.rebrickable.com/media/sets/8008-1.jpg</td>\n",
       "    </tr>\n",
       "    <tr>\n",
       "      <th>18456</th>\n",
       "      <td>8009-1</td>\n",
       "      <td>R2-D2</td>\n",
       "      <td>2002</td>\n",
       "      <td>18</td>\n",
       "      <td>239</td>\n",
       "      <td>https://cdn.rebrickable.com/media/sets/8009-1.jpg</td>\n",
       "    </tr>\n",
       "    <tr>\n",
       "      <th>18457</th>\n",
       "      <td>8010-1</td>\n",
       "      <td>Darth Vader</td>\n",
       "      <td>2002</td>\n",
       "      <td>18</td>\n",
       "      <td>388</td>\n",
       "      <td>https://cdn.rebrickable.com/media/sets/8010-1.jpg</td>\n",
       "    </tr>\n",
       "    <tr>\n",
       "      <th>18469</th>\n",
       "      <td>8011-1</td>\n",
       "      <td>Jango Fett</td>\n",
       "      <td>2002</td>\n",
       "      <td>18</td>\n",
       "      <td>426</td>\n",
       "      <td>https://cdn.rebrickable.com/media/sets/8011-1.jpg</td>\n",
       "    </tr>\n",
       "    <tr>\n",
       "      <th>18476</th>\n",
       "      <td>8012-1</td>\n",
       "      <td>Super Battle Droid</td>\n",
       "      <td>2002</td>\n",
       "      <td>18</td>\n",
       "      <td>378</td>\n",
       "      <td>https://cdn.rebrickable.com/media/sets/8012-1.jpg</td>\n",
       "    </tr>\n",
       "    <tr>\n",
       "      <th>23734</th>\n",
       "      <td>K8008-1</td>\n",
       "      <td>Darth Vader / Stormtrooper Kit</td>\n",
       "      <td>2002</td>\n",
       "      <td>18</td>\n",
       "      <td>0</td>\n",
       "      <td>https://cdn.rebrickable.com/media/sets/k8008-1...</td>\n",
       "    </tr>\n",
       "  </tbody>\n",
       "</table>\n",
       "</div>"
      ]
     },
     "execution_count": 32,
     "metadata": {},
     "output_type": "execute_result"
    }
   ],
   "execution_count": 32
  },
  {
   "metadata": {
    "ExecuteTime": {
     "end_time": "2025-04-21T20:28:49.406205Z",
     "start_time": "2025-04-21T20:28:49.361041Z"
    }
   },
   "cell_type": "code",
   "source": [
    "# Merge DataFrames using .merge() to create bar charts\n",
    "# Convert Pd Data Series into Pd DataFrame based on a Key\n",
    "set_theme_count = pd.DataFrame({'id': set_theme_count.index,\n",
    "                                'set_count':set_theme_count.values})\n",
    "set_theme_count.head()"
   ],
   "id": "46fa3a4a4afe4762",
   "outputs": [
    {
     "data": {
      "text/plain": [
       "    id  set_count\n",
       "0  501       1239\n",
       "1  158        956\n",
       "2  503        782\n",
       "3  494        621\n",
       "4  435        567"
      ],
      "text/html": [
       "<div>\n",
       "<style scoped>\n",
       "    .dataframe tbody tr th:only-of-type {\n",
       "        vertical-align: middle;\n",
       "    }\n",
       "\n",
       "    .dataframe tbody tr th {\n",
       "        vertical-align: top;\n",
       "    }\n",
       "\n",
       "    .dataframe thead th {\n",
       "        text-align: right;\n",
       "    }\n",
       "</style>\n",
       "<table border=\"1\" class=\"dataframe\">\n",
       "  <thead>\n",
       "    <tr style=\"text-align: right;\">\n",
       "      <th></th>\n",
       "      <th>id</th>\n",
       "      <th>set_count</th>\n",
       "    </tr>\n",
       "  </thead>\n",
       "  <tbody>\n",
       "    <tr>\n",
       "      <th>0</th>\n",
       "      <td>501</td>\n",
       "      <td>1239</td>\n",
       "    </tr>\n",
       "    <tr>\n",
       "      <th>1</th>\n",
       "      <td>158</td>\n",
       "      <td>956</td>\n",
       "    </tr>\n",
       "    <tr>\n",
       "      <th>2</th>\n",
       "      <td>503</td>\n",
       "      <td>782</td>\n",
       "    </tr>\n",
       "    <tr>\n",
       "      <th>3</th>\n",
       "      <td>494</td>\n",
       "      <td>621</td>\n",
       "    </tr>\n",
       "    <tr>\n",
       "      <th>4</th>\n",
       "      <td>435</td>\n",
       "      <td>567</td>\n",
       "    </tr>\n",
       "  </tbody>\n",
       "</table>\n",
       "</div>"
      ]
     },
     "execution_count": 33,
     "metadata": {},
     "output_type": "execute_result"
    }
   ],
   "execution_count": 33
  },
  {
   "metadata": {
    "ExecuteTime": {
     "end_time": "2025-04-21T20:31:50.033693Z",
     "start_time": "2025-04-21T20:31:50.014839Z"
    }
   },
   "cell_type": "code",
   "source": [
    "# Merge DFs on 'id' \n",
    "merged_df = pd.merge(set_theme_count, themes, on='id')\n",
    "merged_df[:3]"
   ],
   "id": "6fee5a09d4cf6c9a",
   "outputs": [
    {
     "data": {
      "text/plain": [
       "    id  set_count       name  parent_id\n",
       "0  501       1239       Gear        NaN\n",
       "1  158        956  Star Wars        NaN\n",
       "2  503        782  Key Chain      501.0"
      ],
      "text/html": [
       "<div>\n",
       "<style scoped>\n",
       "    .dataframe tbody tr th:only-of-type {\n",
       "        vertical-align: middle;\n",
       "    }\n",
       "\n",
       "    .dataframe tbody tr th {\n",
       "        vertical-align: top;\n",
       "    }\n",
       "\n",
       "    .dataframe thead th {\n",
       "        text-align: right;\n",
       "    }\n",
       "</style>\n",
       "<table border=\"1\" class=\"dataframe\">\n",
       "  <thead>\n",
       "    <tr style=\"text-align: right;\">\n",
       "      <th></th>\n",
       "      <th>id</th>\n",
       "      <th>set_count</th>\n",
       "      <th>name</th>\n",
       "      <th>parent_id</th>\n",
       "    </tr>\n",
       "  </thead>\n",
       "  <tbody>\n",
       "    <tr>\n",
       "      <th>0</th>\n",
       "      <td>501</td>\n",
       "      <td>1239</td>\n",
       "      <td>Gear</td>\n",
       "      <td>NaN</td>\n",
       "    </tr>\n",
       "    <tr>\n",
       "      <th>1</th>\n",
       "      <td>158</td>\n",
       "      <td>956</td>\n",
       "      <td>Star Wars</td>\n",
       "      <td>NaN</td>\n",
       "    </tr>\n",
       "    <tr>\n",
       "      <th>2</th>\n",
       "      <td>503</td>\n",
       "      <td>782</td>\n",
       "      <td>Key Chain</td>\n",
       "      <td>501.0</td>\n",
       "    </tr>\n",
       "  </tbody>\n",
       "</table>\n",
       "</div>"
      ]
     },
     "execution_count": 34,
     "metadata": {},
     "output_type": "execute_result"
    }
   ],
   "execution_count": 34
  },
  {
   "metadata": {
    "ExecuteTime": {
     "end_time": "2025-04-21T20:38:39.040087Z",
     "start_time": "2025-04-21T20:38:38.798461Z"
    }
   },
   "cell_type": "code",
   "source": [
    "# Plot bar chart with matplotlib\n",
    "plt.figure(figsize=(20,10))\n",
    "plt.xticks(fontsize=10, rotation=45)\n",
    "plt.yticks(fontsize=14)\n",
    "plt.ylabel('Nr of Sets', fontsize=14)\n",
    "plt.xlabel('Theme Name', fontsize=14)\n",
    "\n",
    "plt.bar(merged_df.name[:10], merged_df.set_count[:10])"
   ],
   "id": "d7a53daee309c12c",
   "outputs": [
    {
     "data": {
      "text/plain": [
       "<BarContainer object of 10 artists>"
      ]
     },
     "execution_count": 49,
     "metadata": {},
     "output_type": "execute_result"
    },
    {
     "data": {
      "text/plain": [
       "<Figure size 2000x1000 with 1 Axes>"
      ],
      "image/png": "[encoded data removed]"
     },
     "metadata": {},
     "output_type": "display_data"
    }
   ],
   "execution_count": 49
  },
  {
   "metadata": {},
   "cell_type": "code",
   "outputs": [],
   "execution_count": null,
   "source": "",
   "id": "fe2cffce1fc6e8ac"
  }
 ],
 "metadata": {
  "kernelspec": {
   "display_name": "Python 3",
   "language": "python",
   "name": "python3"
  },
  "language_info": {
   "codemirror_mode": {
    "name": "ipython",
    "version": 2
   },
   "file_extension": ".py",
   "mimetype": "text/x-python",
   "name": "python",
   "nbconvert_exporter": "python",
   "pygments_lexer": "ipython2",
   "version": "2.7.6"
  }
 },
 "nbformat": 4,
 "nbformat_minor": 5
}
